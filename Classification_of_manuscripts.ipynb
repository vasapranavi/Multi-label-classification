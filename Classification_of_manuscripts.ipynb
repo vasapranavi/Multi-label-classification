{
 "cells": [
  {
   "cell_type": "code",
   "execution_count": 1,
   "id": "8cd89890",
   "metadata": {},
   "outputs": [],
   "source": [
    "#Importing all the required libraries\n",
    "import pandas as pd\n",
    "from sklearn.model_selection import train_test_split\n",
    "from sklearn.feature_extraction.text import TfidfVectorizer\n",
    "import scipy as sp\n",
    "from skmultilearn.adapt import MLkNN\n",
    "from sklearn.metrics import accuracy_score\n",
    "import numpy as np\n",
    "from sklearn import metrics\n",
    "from sklearn.metrics import classification_report\n",
    "from sklearn.ensemble import RandomForestClassifier\n",
    "from sklearn.datasets import make_regression\n",
    "from skmultilearn.problem_transform import LabelPowerset\n",
    "from sklearn.naive_bayes import GaussianNB\n",
    "from skmultilearn.problem_transform import ClassifierChain\n",
    "from skmultilearn.problem_transform import BinaryRelevance\n",
    "from sklearn.tree import DecisionTreeClassifier"
   ]
  },
  {
   "cell_type": "code",
   "execution_count": 2,
   "id": "05700cd8",
   "metadata": {},
   "outputs": [],
   "source": [
    "#Reading all the files to dataframes\n",
    "file_1 = pd.read_csv(\"file_1.csv\")\n",
    "file_2 = pd.read_csv(\"file_2.csv\")\n",
    "file_3 = pd.read_csv(\"file_3.csv\")\n",
    "file_4 = pd.read_csv(\"file_4.csv\")"
   ]
  },
  {
   "cell_type": "code",
   "execution_count": 3,
   "id": "584b57ee",
   "metadata": {},
   "outputs": [
    {
     "name": "stdout",
     "output_type": "stream",
     "text": [
      "Index(['title', 'doc_id', 'n_references'], dtype='object') Index(['DOI', 'for_name', 'for_code'], dtype='object') Index(['doi', 'n_authors'], dtype='object') Index(['doi', 'corresponding_author_h_index'], dtype='object')\n"
     ]
    }
   ],
   "source": [
    "#Checking all the column names\n",
    "print(file_1.columns,file_2.columns,file_3.columns,file_4.columns)"
   ]
  },
  {
   "cell_type": "code",
   "execution_count": 4,
   "id": "affb95ce",
   "metadata": {},
   "outputs": [],
   "source": [
    "#Changing names of the columns in files dataframe\n",
    "file_1 = file_1.rename(columns={'doc_id':'doi'})\n",
    "file_2 = file_2.rename(columns={'DOI':'doi'})"
   ]
  },
  {
   "cell_type": "code",
   "execution_count": 5,
   "id": "03267adc",
   "metadata": {},
   "outputs": [],
   "source": [
    "#Combining data\n",
    "file_data = [file_1,file_2,file_3,file_4]\n",
    "#Converting data to string format\n",
    "for file in file_data:\n",
    "    file['doi'] = file['doi'].str.upper()\n"
   ]
  },
  {
   "cell_type": "code",
   "execution_count": 6,
   "id": "b6b6fd7f",
   "metadata": {},
   "outputs": [],
   "source": [
    "#Combining 'for_code' , 'for_name' and 'corresponding_author_h_index' datain respective dataframes\n",
    "file_2['for_name'] = file_2['for_name'].astype(str)\n",
    "new_file_2 = file_2.groupby('doi').apply(lambda x:list(x.for_name))\n",
    "new_file_2 = new_file_2.to_frame().reset_index()\n",
    "new_file_2.columns = ['doi','for_name']\n",
    "\n",
    "file_2['for_code'] = file_2['for_code'].astype(str)\n",
    "new_file_2_i = file_2.groupby('doi').apply(lambda x:','.join(x.for_code))\n",
    "new_file_2_i = new_file_2_i.to_frame().reset_index()\n",
    "new_file_2_i.columns = ['doi','for_code']\n",
    "\n",
    "file_4['corresponding_author_h_index'] = file_4['corresponding_author_h_index'].astype(str)\n",
    "new_file_4 = file_4.groupby('doi').apply(lambda x:','.join(x.corresponding_author_h_index))\n",
    "new_file_4 = new_file_4.to_frame().reset_index()\n",
    "new_file_4.columns = ['doi','corresponding_author_h_index']\n",
    "\n",
    "\n",
    "#Combining final data\n",
    "result_1 = pd.merge(file_1,new_file_2,how='inner',on=['doi'])\n",
    "result_2 = pd.merge(result_1,new_file_2_i,how='inner',on=['doi'])\n",
    "result_3 = pd.merge(result_2,file_3,how='inner',on=['doi'])\n",
    "\n",
    "final = pd.merge(result_3,new_file_4,how='inner',on=['doi'])"
   ]
  },
  {
   "cell_type": "code",
   "execution_count": 7,
   "id": "7e1dce16",
   "metadata": {},
   "outputs": [
    {
     "name": "stdout",
     "output_type": "stream",
     "text": [
      "<class 'pandas.core.frame.DataFrame'>\n",
      "Int64Index: 11276 entries, 0 to 11275\n",
      "Data columns (total 7 columns):\n",
      " #   Column                        Non-Null Count  Dtype \n",
      "---  ------                        --------------  ----- \n",
      " 0   title                         11276 non-null  object\n",
      " 1   doi                           11276 non-null  object\n",
      " 2   n_references                  11276 non-null  int64 \n",
      " 3   for_name                      11276 non-null  object\n",
      " 4   for_code                      11276 non-null  object\n",
      " 5   n_authors                     11276 non-null  int64 \n",
      " 6   corresponding_author_h_index  11276 non-null  object\n",
      "dtypes: int64(2), object(5)\n",
      "memory usage: 704.8+ KB\n"
     ]
    }
   ],
   "source": [
    "final.info()"
   ]
  },
  {
   "cell_type": "code",
   "execution_count": 8,
   "id": "3f764c5f",
   "metadata": {
    "scrolled": true
   },
   "outputs": [
    {
     "name": "stdout",
     "output_type": "stream",
     "text": [
      "<class 'pandas.core.frame.DataFrame'>\n",
      "Int64Index: 11276 entries, 0 to 11275\n",
      "Data columns (total 15 columns):\n",
      " #   Column                        Non-Null Count  Dtype \n",
      "---  ------                        --------------  ----- \n",
      " 0   title                         11276 non-null  object\n",
      " 1   doi                           11276 non-null  object\n",
      " 2   n_references                  11276 non-null  int64 \n",
      " 3   for_name                      11276 non-null  object\n",
      " 4   for_code                      11276 non-null  object\n",
      " 5   n_authors                     11276 non-null  int64 \n",
      " 6   corresponding_author_h_index  11276 non-null  object\n",
      " 7   h_index1                      11276 non-null  object\n",
      " 8   h_index2                      4481 non-null   object\n",
      " 9   h_index3                      4481 non-null   object\n",
      " 10  h_index4                      1082 non-null   object\n",
      " 11  h_index5                      1082 non-null   object\n",
      " 12  h_index6                      133 non-null    object\n",
      " 13  h_index7                      133 non-null    object\n",
      " 14  h_index8                      2 non-null      object\n",
      "dtypes: int64(2), object(13)\n",
      "memory usage: 1.4+ MB\n"
     ]
    }
   ],
   "source": [
    "#Dividing 'corresponding_author_h_index' data\n",
    "final[['h_index1','h_index2']] = final['corresponding_author_h_index'].str.split(',',n=1,expand=True)\n",
    "final[['h_index3','h_index4']] = final['h_index2'].str.split(',',n=1,expand=True)\n",
    "final[['h_index5','h_index6']] = final['h_index4'].str.split(',',n=1,expand=True)\n",
    "final[['h_index7','h_index8']] = final['h_index6'].str.split(',',n=1,expand=True)\n",
    "final.info()"
   ]
  },
  {
   "cell_type": "code",
   "execution_count": 9,
   "id": "177fac3e",
   "metadata": {},
   "outputs": [],
   "source": [
    "#Removing unnecessary columns\n",
    "final = final.drop(['corresponding_author_h_index','h_index2','h_index4','h_index6'],axis=1)"
   ]
  },
  {
   "cell_type": "code",
   "execution_count": 10,
   "id": "f6cad03d",
   "metadata": {},
   "outputs": [],
   "source": [
    "#Counting number of fields present\n",
    "all_fields = sum(final['for_name'],[])\n",
    "field_count = pd.Series(all_fields).value_counts()\n",
    "field_count = pd.DataFrame(field_count)\n",
    "field_count = field_count.reset_index()\n",
    "field_count.columns = ['field', 'count']"
   ]
  },
  {
   "cell_type": "code",
   "execution_count": 11,
   "id": "8befa378",
   "metadata": {},
   "outputs": [
    {
     "data": {
      "text/plain": [
       "<function matplotlib.pyplot.show(close=None, block=None)>"
      ]
     },
     "execution_count": 11,
     "metadata": {},
     "output_type": "execute_result"
    },
    {
     "data": {
      "image/png": "[encoded data removed]",
      "text/plain": [
       "<Figure size 864x1080 with 1 Axes>"
      ]
     },
     "metadata": {
      "needs_background": "light"
     },
     "output_type": "display_data"
    }
   ],
   "source": [
    "#Plotting the counts\n",
    "import matplotlib.pyplot as plt\n",
    "import seaborn as sns\n",
    "g = field_count.nlargest(columns='count',n=50)\n",
    "plt.figure(figsize=(12,15))\n",
    "ax = sns.barplot(data=g, x= 'count', y='field')\n",
    "ax.set(ylabel='count')\n",
    "plt.show"
   ]
  },
  {
   "cell_type": "code",
   "execution_count": 12,
   "id": "b4d320a8",
   "metadata": {},
   "outputs": [
    {
     "name": "stdout",
     "output_type": "stream",
     "text": [
      "<class 'pandas.core.frame.DataFrame'>\n",
      "Int64Index: 11016 entries, 0 to 11275\n",
      "Data columns (total 12 columns):\n",
      " #   Column           Non-Null Count  Dtype \n",
      "---  ------           --------------  ----- \n",
      " 0   title            11016 non-null  object\n",
      " 1   doi              11016 non-null  object\n",
      " 2   n_references     11016 non-null  int64 \n",
      " 3   for_name         11016 non-null  object\n",
      " 4   for_code         11016 non-null  object\n",
      " 5   n_authors        11016 non-null  int64 \n",
      " 6   h_index1         11016 non-null  object\n",
      " 7   h_index3         4397 non-null   object\n",
      " 8   h_index5         1060 non-null   object\n",
      " 9   h_index7         132 non-null    object\n",
      " 10  h_index8         2 non-null      object\n",
      " 11  for_name_string  11016 non-null  object\n",
      "dtypes: int64(2), object(10)\n",
      "memory usage: 1.1+ MB\n"
     ]
    }
   ],
   "source": [
    "# Removing Noise (addenda, editorials, corrections (author, publisher), replies, and retractions) from the data\n",
    "final['for_name_string'] = final['for_name'].apply(lambda x:','.join(map(str,x)))\n",
    "final = final[final['for_name_string']!='nan']\n",
    "final.info()"
   ]
  },
  {
   "cell_type": "code",
   "execution_count": 13,
   "id": "f7122198",
   "metadata": {},
   "outputs": [
    {
     "name": "stdout",
     "output_type": "stream",
     "text": [
      "<class 'pandas.core.frame.DataFrame'>\n",
      "Int64Index: 11016 entries, 0 to 11275\n",
      "Data columns (total 21 columns):\n",
      " #   Column  Non-Null Count  Dtype\n",
      "---  ------  --------------  -----\n",
      " 0   1.0     11016 non-null  int64\n",
      " 1   10.0    11016 non-null  int64\n",
      " 2   11.0    11016 non-null  int64\n",
      " 3   12.0    11016 non-null  int64\n",
      " 4   14.0    11016 non-null  int64\n",
      " 5   15.0    11016 non-null  int64\n",
      " 6   16.0    11016 non-null  int64\n",
      " 7   17.0    11016 non-null  int64\n",
      " 8   18.0    11016 non-null  int64\n",
      " 9   19.0    11016 non-null  int64\n",
      " 10  2.0     11016 non-null  int64\n",
      " 11  20.0    11016 non-null  int64\n",
      " 12  21.0    11016 non-null  int64\n",
      " 13  22.0    11016 non-null  int64\n",
      " 14  3.0     11016 non-null  int64\n",
      " 15  4.0     11016 non-null  int64\n",
      " 16  5.0     11016 non-null  int64\n",
      " 17  6.0     11016 non-null  int64\n",
      " 18  7.0     11016 non-null  int64\n",
      " 19  8.0     11016 non-null  int64\n",
      " 20  9.0     11016 non-null  int64\n",
      "dtypes: int64(21)\n",
      "memory usage: 1.8 MB\n"
     ]
    }
   ],
   "source": [
    "#Converting output fields to one hot encoding vectors\n",
    "labels = final['for_code'].str.get_dummies(sep=',')\n",
    "labels.info()"
   ]
  },
  {
   "cell_type": "code",
   "execution_count": 14,
   "id": "9c5dc225",
   "metadata": {},
   "outputs": [],
   "source": [
    "# Selecting top occuring classes\n",
    "column_list = labels.columns\n",
    "final_columns = ['6.0','11.0','3.0','9.0','2.0','4.0','17.0','8.0','5.0','10.0','1.0','7.0']\n",
    "for col in column_list:\n",
    "    if col not in final_columns:\n",
    "        labels = labels.drop(col,axis=1)"
   ]
  },
  {
   "cell_type": "code",
   "execution_count": 15,
   "id": "a53c430f",
   "metadata": {},
   "outputs": [],
   "source": [
    "#Concatinating input with the labels\n",
    "final = pd.concat([final, labels], axis=1)"
   ]
  },
  {
   "cell_type": "code",
   "execution_count": 16,
   "id": "a5b8116a",
   "metadata": {},
   "outputs": [],
   "source": [
    "#Dropping columns\n",
    "final = final.drop(['doi','for_name','for_code','for_name_string'],axis=1)"
   ]
  },
  {
   "cell_type": "code",
   "execution_count": 17,
   "id": "6e3eda38",
   "metadata": {},
   "outputs": [],
   "source": [
    "#Converting 'h_index' columns to numeric from and filling 'nan' values with 0\n",
    "h_index = ['h_index1','h_index3','h_index5','h_index7','h_index8']\n",
    "for h_ind in h_index:\n",
    "    final[h_ind] = final[h_ind].replace('nan',0).fillna(0)\n",
    "    final[h_ind] = pd.to_numeric(final[h_ind])"
   ]
  },
  {
   "cell_type": "code",
   "execution_count": 18,
   "id": "d3c7a831",
   "metadata": {},
   "outputs": [
    {
     "name": "stdout",
     "output_type": "stream",
     "text": [
      "<class 'pandas.core.frame.DataFrame'>\n",
      "Int64Index: 11016 entries, 0 to 11275\n",
      "Data columns (total 20 columns):\n",
      " #   Column        Non-Null Count  Dtype  \n",
      "---  ------        --------------  -----  \n",
      " 0   title         11016 non-null  object \n",
      " 1   n_references  11016 non-null  int64  \n",
      " 2   n_authors     11016 non-null  int64  \n",
      " 3   h_index1      11016 non-null  float64\n",
      " 4   h_index3      11016 non-null  float64\n",
      " 5   h_index5      11016 non-null  float64\n",
      " 6   h_index7      11016 non-null  float64\n",
      " 7   h_index8      11016 non-null  float64\n",
      " 8   1.0           11016 non-null  int64  \n",
      " 9   10.0          11016 non-null  int64  \n",
      " 10  11.0          11016 non-null  int64  \n",
      " 11  17.0          11016 non-null  int64  \n",
      " 12  2.0           11016 non-null  int64  \n",
      " 13  3.0           11016 non-null  int64  \n",
      " 14  4.0           11016 non-null  int64  \n",
      " 15  5.0           11016 non-null  int64  \n",
      " 16  6.0           11016 non-null  int64  \n",
      " 17  7.0           11016 non-null  int64  \n",
      " 18  8.0           11016 non-null  int64  \n",
      " 19  9.0           11016 non-null  int64  \n",
      "dtypes: float64(5), int64(14), object(1)\n",
      "memory usage: 1.8+ MB\n"
     ]
    }
   ],
   "source": [
    "final.info()"
   ]
  },
  {
   "cell_type": "code",
   "execution_count": 19,
   "id": "a00fed34",
   "metadata": {},
   "outputs": [],
   "source": [
    "#Splitting data to train and test\n",
    "train, test = train_test_split(final, random_state=42, test_size=0.30, shuffle=True)\n",
    "train_x = train.drop(['1.0','10.0','11.0','17.0','2.0','3.0','4.0','5.0','6.0','7.0','8.0','9.0'],axis=1)\n",
    "train_y = train[['1.0','10.0','11.0','17.0','2.0','3.0','4.0','5.0','6.0','7.0','8.0','9.0']]\n",
    "test_x = test.drop(['1.0','10.0','11.0','17.0','2.0','3.0','4.0','5.0','6.0','7.0','8.0','9.0'],axis=1)\n",
    "test_y = test[['1.0','10.0','11.0','17.0','2.0','3.0','4.0','5.0','6.0','7.0','8.0','9.0']]"
   ]
  },
  {
   "cell_type": "code",
   "execution_count": 20,
   "id": "17f1e119",
   "metadata": {},
   "outputs": [],
   "source": [
    "#Converting text to numerical format\n",
    "vect = TfidfVectorizer(max_features=5000,stop_words='english')\n",
    "vect.fit(train_x['title'])\n",
    "vect.fit(test_x['title'])\n",
    "x_train_vect = vect.transform(train_x['title'])\n",
    "x_test_vect = vect.transform(test_x['title'])"
   ]
  },
  {
   "cell_type": "code",
   "execution_count": 21,
   "id": "7d2c3044",
   "metadata": {},
   "outputs": [],
   "source": [
    "#Combining vectorized data with the remaining data\n",
    "old_x_train = train_x[['n_references','n_authors','h_index1','h_index3','h_index5','h_index7','h_index8']]\n",
    "new_x_train = sp.sparse.hstack((x_train_vect,old_x_train.values),format='csr')\n",
    "old_x_test = test_x[['n_references','n_authors','h_index1','h_index3','h_index5','h_index7','h_index8']]\n",
    "new_x_test = sp.sparse.hstack((x_test_vect,old_x_test.values),format='csr')"
   ]
  },
  {
   "cell_type": "code",
   "execution_count": 22,
   "id": "0b3c611a",
   "metadata": {},
   "outputs": [
    {
     "name": "stderr",
     "output_type": "stream",
     "text": [
      "C:\\ProgramData\\Anaconda3\\lib\\site-packages\\sklearn\\utils\\validation.py:70: FutureWarning: Pass n_neighbors=12 as keyword args. From version 1.0 (renaming of 0.25) passing these as positional arguments will result in an error\n",
      "  warnings.warn(f\"Pass {args_msg} as keyword args. From version \"\n"
     ]
    },
    {
     "name": "stdout",
     "output_type": "stream",
     "text": [
      "0.12526475037821483\n",
      "              precision    recall  f1-score   support\n",
      "\n",
      "           0       0.00      0.00      0.00        41\n",
      "           1       0.00      0.00      0.00        70\n",
      "           2       0.45      0.20      0.28       797\n",
      "           3       1.00      0.01      0.02        89\n",
      "           4       0.00      0.00      0.00       316\n",
      "           5       0.41      0.12      0.18       541\n",
      "           6       0.40      0.03      0.05       145\n",
      "           7       0.00      0.00      0.00        56\n",
      "           8       0.50      0.26      0.34      1325\n",
      "           9       0.00      0.00      0.00        14\n",
      "          10       0.00      0.00      0.00        62\n",
      "          11       0.31      0.01      0.02       367\n",
      "\n",
      "   micro avg       0.47      0.15      0.23      3823\n",
      "   macro avg       0.26      0.05      0.07      3823\n",
      "weighted avg       0.39      0.15      0.21      3823\n",
      " samples avg       0.16      0.16      0.15      3823\n",
      "\n"
     ]
    },
    {
     "name": "stderr",
     "output_type": "stream",
     "text": [
      "C:\\ProgramData\\Anaconda3\\lib\\site-packages\\sklearn\\metrics\\_classification.py:1245: UndefinedMetricWarning: Precision and F-score are ill-defined and being set to 0.0 in labels with no predicted samples. Use `zero_division` parameter to control this behavior.\n",
      "  _warn_prf(average, modifier, msg_start, len(result))\n",
      "C:\\ProgramData\\Anaconda3\\lib\\site-packages\\sklearn\\metrics\\_classification.py:1245: UndefinedMetricWarning: Precision and F-score are ill-defined and being set to 0.0 in samples with no predicted labels. Use `zero_division` parameter to control this behavior.\n",
      "  _warn_prf(average, modifier, msg_start, len(result))\n",
      "C:\\ProgramData\\Anaconda3\\lib\\site-packages\\sklearn\\metrics\\_classification.py:1245: UndefinedMetricWarning: Recall and F-score are ill-defined and being set to 0.0 in samples with no true labels. Use `zero_division` parameter to control this behavior.\n",
      "  _warn_prf(average, modifier, msg_start, len(result))\n"
     ]
    }
   ],
   "source": [
    "#Applying adopeted knn for multi-lable classification\n",
    "classifier = MLkNN(k=12)\n",
    "classifier.fit(new_x_train, np.array(train_y))\n",
    "predictions = classifier.predict(new_x_test)\n",
    "\n",
    "print(accuracy_score(test_y,predictions))\n",
    "print(classification_report(test_y, predictions))"
   ]
  },
  {
   "cell_type": "code",
   "execution_count": 23,
   "id": "4417bb7b",
   "metadata": {},
   "outputs": [
    {
     "name": "stdout",
     "output_type": "stream",
     "text": [
      "0.45748865355521934\n",
      "              precision    recall  f1-score   support\n",
      "\n",
      "           0       0.17      0.02      0.04        41\n",
      "           1       0.33      0.03      0.05        70\n",
      "           2       0.53      0.70      0.60       797\n",
      "           3       0.58      0.17      0.26        89\n",
      "           4       0.57      0.54      0.56       316\n",
      "           5       0.59      0.52      0.56       541\n",
      "           6       0.73      0.68      0.70       145\n",
      "           7       0.55      0.21      0.31        56\n",
      "           8       0.68      0.65      0.67      1325\n",
      "           9       0.50      0.07      0.12        14\n",
      "          10       0.25      0.08      0.12        62\n",
      "          11       0.49      0.44      0.46       367\n",
      "\n",
      "   micro avg       0.60      0.57      0.58      3823\n",
      "   macro avg       0.50      0.34      0.37      3823\n",
      "weighted avg       0.59      0.57      0.57      3823\n",
      " samples avg       0.60      0.58      0.57      3823\n",
      "\n"
     ]
    },
    {
     "name": "stderr",
     "output_type": "stream",
     "text": [
      "C:\\ProgramData\\Anaconda3\\lib\\site-packages\\sklearn\\metrics\\_classification.py:1245: UndefinedMetricWarning: Precision and F-score are ill-defined and being set to 0.0 in samples with no predicted labels. Use `zero_division` parameter to control this behavior.\n",
      "  _warn_prf(average, modifier, msg_start, len(result))\n",
      "C:\\ProgramData\\Anaconda3\\lib\\site-packages\\sklearn\\metrics\\_classification.py:1245: UndefinedMetricWarning: Recall and F-score are ill-defined and being set to 0.0 in samples with no true labels. Use `zero_division` parameter to control this behavior.\n",
      "  _warn_prf(average, modifier, msg_start, len(result))\n"
     ]
    }
   ],
   "source": [
    "# using Label Powerset\n",
    "# initialize Label Powerset multi-label classifier\n",
    "# with a gaussian naive bayes base classifier\n",
    "classifier = LabelPowerset(GaussianNB())\n",
    "\n",
    "# train\n",
    "classifier.fit(new_x_train, train_y)\n",
    "\n",
    "# predict\n",
    "predictions = classifier.predict(new_x_test)\n",
    "\n",
    "print(accuracy_score(test_y,predictions))\n",
    "print(classification_report(test_y, predictions))"
   ]
  },
  {
   "cell_type": "code",
   "execution_count": 24,
   "id": "819a89f6",
   "metadata": {},
   "outputs": [
    {
     "name": "stdout",
     "output_type": "stream",
     "text": [
      "0.31981845688350985\n",
      "              precision    recall  f1-score   support\n",
      "\n",
      "           0       0.14      0.02      0.04        41\n",
      "           1       0.11      0.04      0.06        70\n",
      "           2       0.50      0.70      0.58       797\n",
      "           3       0.44      0.20      0.28        89\n",
      "           4       0.51      0.55      0.53       316\n",
      "           5       0.52      0.59      0.55       541\n",
      "           6       0.67      0.39      0.49       145\n",
      "           7       0.48      0.20      0.28        56\n",
      "           8       0.66      0.77      0.71      1325\n",
      "           9       0.00      0.00      0.00        14\n",
      "          10       0.09      0.03      0.05        62\n",
      "          11       0.39      0.49      0.44       367\n",
      "\n",
      "   micro avg       0.55      0.61      0.58      3823\n",
      "   macro avg       0.38      0.33      0.33      3823\n",
      "weighted avg       0.53      0.61      0.56      3823\n",
      " samples avg       0.51      0.62      0.53      3823\n",
      "\n"
     ]
    },
    {
     "name": "stderr",
     "output_type": "stream",
     "text": [
      "C:\\ProgramData\\Anaconda3\\lib\\site-packages\\sklearn\\metrics\\_classification.py:1245: UndefinedMetricWarning: Precision and F-score are ill-defined and being set to 0.0 in samples with no predicted labels. Use `zero_division` parameter to control this behavior.\n",
      "  _warn_prf(average, modifier, msg_start, len(result))\n",
      "C:\\ProgramData\\Anaconda3\\lib\\site-packages\\sklearn\\metrics\\_classification.py:1245: UndefinedMetricWarning: Recall and F-score are ill-defined and being set to 0.0 in samples with no true labels. Use `zero_division` parameter to control this behavior.\n",
      "  _warn_prf(average, modifier, msg_start, len(result))\n"
     ]
    }
   ],
   "source": [
    "# initialize classifier chains multi-label classifier\n",
    "# with a gaussian naive bayes base classifier\n",
    "classifier = ClassifierChain(GaussianNB())\n",
    "\n",
    "# train\n",
    "classifier.fit(new_x_train, train_y)\n",
    "\n",
    "# predict\n",
    "predictions = classifier.predict(new_x_test)\n",
    "\n",
    "print(accuracy_score(test_y,predictions))\n",
    "print(classification_report(test_y, predictions))"
   ]
  },
  {
   "cell_type": "code",
   "execution_count": 25,
   "id": "f5dc64c2",
   "metadata": {},
   "outputs": [
    {
     "name": "stdout",
     "output_type": "stream",
     "text": [
      "Accuracy =  0.31981845688350985\n",
      "              precision    recall  f1-score   support\n",
      "\n",
      "           0       0.14      0.02      0.04        41\n",
      "           1       0.11      0.04      0.06        70\n",
      "           2       0.50      0.70      0.58       797\n",
      "           3       0.44      0.20      0.28        89\n",
      "           4       0.50      0.55      0.52       316\n",
      "           5       0.52      0.59      0.55       541\n",
      "           6       0.64      0.39      0.48       145\n",
      "           7       0.46      0.21      0.29        56\n",
      "           8       0.66      0.77      0.71      1325\n",
      "           9       0.00      0.00      0.00        14\n",
      "          10       0.09      0.03      0.05        62\n",
      "          11       0.39      0.50      0.44       367\n",
      "\n",
      "   micro avg       0.54      0.61      0.58      3823\n",
      "   macro avg       0.37      0.33      0.33      3823\n",
      "weighted avg       0.53      0.61      0.56      3823\n",
      " samples avg       0.51      0.62      0.53      3823\n",
      "\n"
     ]
    },
    {
     "name": "stderr",
     "output_type": "stream",
     "text": [
      "C:\\ProgramData\\Anaconda3\\lib\\site-packages\\sklearn\\metrics\\_classification.py:1245: UndefinedMetricWarning: Precision and F-score are ill-defined and being set to 0.0 in samples with no predicted labels. Use `zero_division` parameter to control this behavior.\n",
      "  _warn_prf(average, modifier, msg_start, len(result))\n",
      "C:\\ProgramData\\Anaconda3\\lib\\site-packages\\sklearn\\metrics\\_classification.py:1245: UndefinedMetricWarning: Recall and F-score are ill-defined and being set to 0.0 in samples with no true labels. Use `zero_division` parameter to control this behavior.\n",
      "  _warn_prf(average, modifier, msg_start, len(result))\n"
     ]
    }
   ],
   "source": [
    "br_classifier = BinaryRelevance(GaussianNB())\n",
    "br_classifier.fit(new_x_train, train_y)\n",
    "br_predictions = br_classifier.predict(new_x_test)\n",
    "print(\"Accuracy = \",accuracy_score(test_y,br_predictions.toarray()))\n",
    "print(classification_report(test_y, br_predictions.toarray()))"
   ]
  },
  {
   "cell_type": "code",
   "execution_count": 26,
   "id": "6369084c",
   "metadata": {},
   "outputs": [
    {
     "name": "stdout",
     "output_type": "stream",
     "text": [
      "Accuracy: 0.3881996974281392\n",
      "              precision    recall  f1-score   support\n",
      "\n",
      "           0       0.00      0.00      0.00        41\n",
      "           1       0.00      0.00      0.00        70\n",
      "           2       0.79      0.40      0.53       797\n",
      "           3       1.00      0.01      0.02        89\n",
      "           4       0.82      0.28      0.41       316\n",
      "           5       0.81      0.35      0.49       541\n",
      "           6       0.89      0.23      0.37       145\n",
      "           7       1.00      0.04      0.07        56\n",
      "           8       0.73      0.73      0.73      1325\n",
      "           9       0.00      0.00      0.00        14\n",
      "          10       0.00      0.00      0.00        62\n",
      "          11       0.71      0.07      0.12       367\n",
      "\n",
      "   micro avg       0.76      0.42      0.54      3823\n",
      "   macro avg       0.56      0.18      0.23      3823\n",
      "weighted avg       0.74      0.42      0.49      3823\n",
      " samples avg       0.47      0.44      0.45      3823\n",
      "\n"
     ]
    },
    {
     "name": "stderr",
     "output_type": "stream",
     "text": [
      "C:\\ProgramData\\Anaconda3\\lib\\site-packages\\sklearn\\metrics\\_classification.py:1245: UndefinedMetricWarning: Precision and F-score are ill-defined and being set to 0.0 in labels with no predicted samples. Use `zero_division` parameter to control this behavior.\n",
      "  _warn_prf(average, modifier, msg_start, len(result))\n",
      "C:\\ProgramData\\Anaconda3\\lib\\site-packages\\sklearn\\metrics\\_classification.py:1245: UndefinedMetricWarning: Precision and F-score are ill-defined and being set to 0.0 in samples with no predicted labels. Use `zero_division` parameter to control this behavior.\n",
      "  _warn_prf(average, modifier, msg_start, len(result))\n",
      "C:\\ProgramData\\Anaconda3\\lib\\site-packages\\sklearn\\metrics\\_classification.py:1245: UndefinedMetricWarning: Recall and F-score are ill-defined and being set to 0.0 in samples with no true labels. Use `zero_division` parameter to control this behavior.\n",
      "  _warn_prf(average, modifier, msg_start, len(result))\n"
     ]
    }
   ],
   "source": [
    "regressor = RandomForestClassifier(n_estimators = 100, random_state = 0) \n",
    "clf = regressor.fit(new_x_train, train_y) \n",
    "y_pred=clf.predict(new_x_test)\n",
    "from sklearn import metrics\n",
    "from sklearn.metrics import classification_report\n",
    "print(\"Accuracy:\",metrics.accuracy_score(test_y, y_pred))\n",
    "print(classification_report(test_y, y_pred))"
   ]
  },
  {
   "cell_type": "code",
   "execution_count": 27,
   "id": "07bf2a0b",
   "metadata": {
    "scrolled": true
   },
   "outputs": [
    {
     "name": "stdout",
     "output_type": "stream",
     "text": [
      "0.40121028744326775\n",
      "              precision    recall  f1-score   support\n",
      "\n",
      "           0       0.11      0.10      0.10        41\n",
      "           1       0.12      0.09      0.10        70\n",
      "           2       0.60      0.59      0.59       797\n",
      "           3       0.42      0.34      0.37        89\n",
      "           4       0.51      0.49      0.50       316\n",
      "           5       0.57      0.52      0.54       541\n",
      "           6       0.61      0.64      0.62       145\n",
      "           7       0.52      0.54      0.53        56\n",
      "           8       0.59      0.67      0.63      1325\n",
      "           9       0.10      0.07      0.08        14\n",
      "          10       0.23      0.19      0.21        62\n",
      "          11       0.31      0.30      0.31       367\n",
      "\n",
      "   micro avg       0.54      0.54      0.54      3823\n",
      "   macro avg       0.39      0.38      0.38      3823\n",
      "weighted avg       0.53      0.54      0.53      3823\n",
      " samples avg       0.55      0.55      0.53      3823\n",
      "\n"
     ]
    },
    {
     "name": "stderr",
     "output_type": "stream",
     "text": [
      "C:\\ProgramData\\Anaconda3\\lib\\site-packages\\sklearn\\metrics\\_classification.py:1245: UndefinedMetricWarning: Precision and F-score are ill-defined and being set to 0.0 in samples with no predicted labels. Use `zero_division` parameter to control this behavior.\n",
      "  _warn_prf(average, modifier, msg_start, len(result))\n",
      "C:\\ProgramData\\Anaconda3\\lib\\site-packages\\sklearn\\metrics\\_classification.py:1245: UndefinedMetricWarning: Recall and F-score are ill-defined and being set to 0.0 in samples with no true labels. Use `zero_division` parameter to control this behavior.\n",
      "  _warn_prf(average, modifier, msg_start, len(result))\n"
     ]
    }
   ],
   "source": [
    "# using classifier chains\n",
    "classifier = ClassifierChain(DecisionTreeClassifier())\n",
    "classifier.fit(new_x_train, train_y)\n",
    "predictions = classifier.predict(new_x_test)\n",
    "print(accuracy_score(test_y,predictions))\n",
    "print(classification_report(test_y,predictions))"
   ]
  },
  {
   "cell_type": "markdown",
   "id": "e23f5ea8",
   "metadata": {},
   "source": [
    "# Balancing the data"
   ]
  },
  {
   "cell_type": "code",
   "execution_count": 28,
   "id": "59409065",
   "metadata": {},
   "outputs": [],
   "source": [
    "#Applying Label Powerset Tranformation\n",
    "final['powerlabel'] = final.apply(lambda x : 2048*x[\"1.0\"]+1024*x['10.0']+512*x['11.0']+256*x['17.0']+128*x['2.0']+64*x[\"3.0\"]+32*x['4.0']+16*x['5.0']+8*x['6.0']+4*x['7.0']+2*x['8.0']+4*x['9.0'],axis=1)\n"
   ]
  },
  {
   "cell_type": "code",
   "execution_count": 29,
   "id": "50889de3",
   "metadata": {},
   "outputs": [
    {
     "data": {
      "text/plain": [
       "<AxesSubplot:>"
      ]
     },
     "execution_count": 29,
     "metadata": {},
     "output_type": "execute_result"
    },
    {
     "data": {
      "image/png": "[encoded data removed]",
      "text/plain": [
       "<Figure size 432x288 with 1 Axes>"
      ]
     },
     "metadata": {
      "needs_background": "light"
     },
     "output_type": "display_data"
    }
   ],
   "source": [
    "final['powerlabel'].hist()"
   ]
  },
  {
   "cell_type": "code",
   "execution_count": 30,
   "id": "2fa7d9a9",
   "metadata": {},
   "outputs": [],
   "source": [
    "train, test = train_test_split(final, random_state=42, test_size=0.30, shuffle=True)\n",
    "powercount = {}\n",
    "powerlabels = np.unique(train['powerlabel'])\n",
    "for p in powerlabels:\n",
    "    powercount[p] = np.count_nonzero(train['powerlabel']==p)\n",
    "maxcount = np.max(list(powercount.values()))\n",
    "for p in powerlabels:\n",
    "    gapnum = maxcount - powercount[p]\n",
    "    temp_df = train.iloc[np.random.choice(np.where(train['powerlabel']==p)[0],size=gapnum)]\n",
    "    train = train.append(temp_df,ignore_index=True)\n",
    "    \n",
    "train_after = train.sample(frac=1).reset_index(drop=True)"
   ]
  },
  {
   "cell_type": "code",
   "execution_count": 31,
   "id": "4eb33c97",
   "metadata": {},
   "outputs": [
    {
     "data": {
      "text/plain": [
       "<AxesSubplot:>"
      ]
     },
     "execution_count": 31,
     "metadata": {},
     "output_type": "execute_result"
    },
    {
     "data": {
      "image/png": "[encoded data removed]",
      "text/plain": [
       "<Figure size 432x288 with 1 Axes>"
      ]
     },
     "metadata": {
      "needs_background": "light"
     },
     "output_type": "display_data"
    }
   ],
   "source": [
    "train_after['powerlabel'].hist(bins=np.unique(train_after['powerlabel']))"
   ]
  },
  {
   "cell_type": "code",
   "execution_count": 32,
   "id": "2605ac7e",
   "metadata": {},
   "outputs": [],
   "source": [
    "train_x = train.drop(['1.0','10.0','11.0','17.0','2.0','3.0','4.0','5.0','6.0','7.0','8.0','9.0','powerlabel'],axis=1)\n",
    "train_y = train[['1.0','10.0','11.0','17.0','2.0','3.0','4.0','5.0','6.0','7.0','8.0','9.0']]\n",
    "test_x = test.drop(['1.0','10.0','11.0','17.0','2.0','3.0','4.0','5.0','6.0','7.0','8.0','9.0','powerlabel'],axis=1)\n",
    "test_y = test[['1.0','10.0','11.0','17.0','2.0','3.0','4.0','5.0','6.0','7.0','8.0','9.0']]"
   ]
  },
  {
   "cell_type": "code",
   "execution_count": 33,
   "id": "ed445ee2",
   "metadata": {},
   "outputs": [],
   "source": [
    "vect = TfidfVectorizer(max_features=5000,stop_words='english')\n",
    "vect.fit(train_x['title'])\n",
    "vect.fit(test_x['title'])\n",
    "x_train_vect = vect.transform(train_x['title'])\n",
    "x_test_vect = vect.transform(test_x['title'])\n",
    "old_x_train = train_x[['n_references','n_authors','h_index1','h_index3','h_index5','h_index7','h_index8']]\n",
    "import scipy as sp\n",
    "new_x_train = sp.sparse.hstack((x_train_vect,old_x_train.values),format='csr')\n",
    "old_x_test = test_x[['n_references','n_authors','h_index1','h_index3','h_index5','h_index7','h_index8']]\n",
    "new_x_test = sp.sparse.hstack((x_test_vect,old_x_test.values),format='csr')"
   ]
  },
  {
   "cell_type": "code",
   "execution_count": 34,
   "id": "7029276c",
   "metadata": {},
   "outputs": [
    {
     "name": "stdout",
     "output_type": "stream",
     "text": [
      "0.46202723146747354\n",
      "              precision    recall  f1-score   support\n",
      "\n",
      "           0       0.17      0.02      0.04        41\n",
      "           1       0.33      0.03      0.05        70\n",
      "           2       0.54      0.69      0.61       797\n",
      "           3       0.58      0.17      0.26        89\n",
      "           4       0.58      0.54      0.56       316\n",
      "           5       0.60      0.53      0.56       541\n",
      "           6       0.73      0.68      0.70       145\n",
      "           7       0.55      0.21      0.31        56\n",
      "           8       0.68      0.66      0.67      1325\n",
      "           9       0.50      0.07      0.12        14\n",
      "          10       0.25      0.08      0.12        62\n",
      "          11       0.50      0.44      0.47       367\n",
      "\n",
      "   micro avg       0.60      0.57      0.59      3823\n",
      "   macro avg       0.50      0.34      0.37      3823\n",
      "weighted avg       0.59      0.57      0.57      3823\n",
      " samples avg       0.60      0.58      0.58      3823\n",
      "\n"
     ]
    },
    {
     "name": "stderr",
     "output_type": "stream",
     "text": [
      "C:\\ProgramData\\Anaconda3\\lib\\site-packages\\sklearn\\metrics\\_classification.py:1245: UndefinedMetricWarning: Precision and F-score are ill-defined and being set to 0.0 in samples with no predicted labels. Use `zero_division` parameter to control this behavior.\n",
      "  _warn_prf(average, modifier, msg_start, len(result))\n",
      "C:\\ProgramData\\Anaconda3\\lib\\site-packages\\sklearn\\metrics\\_classification.py:1245: UndefinedMetricWarning: Recall and F-score are ill-defined and being set to 0.0 in samples with no true labels. Use `zero_division` parameter to control this behavior.\n",
      "  _warn_prf(average, modifier, msg_start, len(result))\n"
     ]
    }
   ],
   "source": [
    "# using Label Powerset\n",
    "# initialize Label Powerset multi-label classifier\n",
    "# with a gaussian naive bayes base classifier\n",
    "classifier = LabelPowerset(GaussianNB())\n",
    "\n",
    "# train\n",
    "classifier.fit(new_x_train, train_y)\n",
    "\n",
    "# predict\n",
    "predictions = classifier.predict(new_x_test)\n",
    "\n",
    "print(accuracy_score(test_y,predictions))\n",
    "print(classification_report(test_y, predictions))\n"
   ]
  },
  {
   "cell_type": "code",
   "execution_count": null,
   "id": "0589318c",
   "metadata": {},
   "outputs": [],
   "source": []
  }
 ],
 "metadata": {
  "kernelspec": {
   "display_name": "Python 3",
   "language": "python",
   "name": "python3"
  },
  "language_info": {
   "codemirror_mode": {
    "name": "ipython",
    "version": 3
   },
   "file_extension": ".py",
   "mimetype": "text/x-python",
   "name": "python",
   "nbconvert_exporter": "python",
   "pygments_lexer": "ipython3",
   "version": "3.8.8"
  }
 },
 "nbformat": 4,
 "nbformat_minor": 5
}
